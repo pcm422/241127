{
 "cells": [
  {
   "cell_type": "markdown",
   "metadata": {},
   "source": [
    "#### 1. 객체\n",
    "\n",
    "객체 : 구현하고자 하는 대상의 **속성과 기능**을 가지는 프로그램 단위  \n",
    "ex) 사람을 객체로 만들어봅시다.  \n",
    "- 속성 : 눈, 코, 입, 키, 몸무게, 성격 등\n",
    "- 기능 : 다리를 이용해 걷기, 물건을 잡을 때 손가락을 이용하기  \n",
    "\n",
    "객체를 만들기 위해서는 속성과 기능이 필요합니다.  \n",
    "하지만, 현실 세계에 있는 물건이든, 개념 또는 사상 등을 많은 것들을 프로그램으로 표현하기에는 대상들이 가지고 있는 구성 요소 또는 특징 그리고 기능들이 많습니다.  \n",
    "⇒ 객체를 구성하고 있는 속성이 많은 경우, 필요한 속성만을 이용해 객체를 표현하는 개념을 추상화라고 합니다.  \n",
    "ex) 개발 공부를 하는 수강생을 객체로 만들기 위해서 필요한 속성과 기능은 무엇일까요?  \n",
    "- 이름\n",
    "- Python 활용 능력\n",
    "- Database 활용 능력\n",
    "- Django 활용 능력\n",
    "- AWS 활용 능력  \n",
    "\n",
    "생각할 수 있는 기능은 무엇이 있을까요?  \n",
    "- 수강 과목별 능력 평균 구하기\n",
    "- 수강 과목별 활용 능력 총점 구하기"
   ]
  },
  {
   "cell_type": "code",
   "execution_count": 1,
   "metadata": {},
   "outputs": [
    {
     "name": "stdout",
     "output_type": "stream",
     "text": [
      "이름\t총점\t평균\n",
      "백현우\t12\t3.0\n",
      "홍혜인\t15\t3.75\n",
      "윤은성\t12\t3.0\n",
      "홍수철\t11\t2.75\n"
     ]
    }
   ],
   "source": [
    "# oz_students 리스트는 각 학생의 이름과 그들의 Python, Database, Django, AWS 능력 점수를 저장한 딕셔너리들의 리스트입니다.\n",
    "oz_students = [\n",
    "    {\"name\": \"백현우\", \"python\": 4, \"database\": 3, \"Django\": 3, \"AWS\": 2},\n",
    "    {\"name\": \"홍혜인\", \"python\": 4, \"database\": 5, \"Django\": 2, \"AWS\": 4},\n",
    "    {\"name\": \"윤은성\", \"python\": 3, \"database\": 4, \"Django\": 4, \"AWS\": 1},\n",
    "    {\"name\": \"홍수철\", \"python\": 2, \"database\": 3, \"Django\": 1, \"AWS\": 5},\n",
    "]\n",
    "\n",
    "# 출력할 표의 헤더를 설정합니다. 이름, 총점, 평균을 탭(\\t)으로 구분하여 출력합니다.\n",
    "print(\"이름\", \"총점\", \"평균\", sep=\"\\t\")\n",
    "\n",
    "# oz_students 리스트의 각 학생에 대해 반복문을 실행합니다.\n",
    "for student in oz_students:\n",
    "    # 각 학생의 Python, Database, Django, AWS 능력 점수를 합산하여 총점을 계산합니다.\n",
    "    ability_sum = student[\"python\"] + student[\"database\"] + student[\"Django\"] + student[\"AWS\"]\n",
    "    # 총점을 4로 나누어 평균을 계산합니다.\n",
    "    ability_average = ability_sum / 4\n",
    "    \n",
    "    # 학생의 이름, 총점, 평균을 탭(\\t)으로 구분하여 출력합니다.\n",
    "    print(student[\"name\"], ability_sum, ability_average, sep=\"\\t\")"
   ]
  },
  {
   "cell_type": "markdown",
   "metadata": {},
   "source": [
    "여러가지 속성(이름, 수강한 과목) 등에 대한 **정보**를 가지고 있는 대상을 객체라고 합니다.  \n",
    "프로그래밍 언어에서 좀 더 넓은 의미로 **속성을 가질 수 있는 모든 것**들을 객체라고 합니다."
   ]
  },
  {
   "cell_type": "markdown",
   "metadata": {},
   "source": [
    "#### 2. 함수를 이용한 객체 사용"
   ]
  },
  {
   "cell_type": "code",
   "execution_count": 6,
   "metadata": {},
   "outputs": [
    {
     "name": "stdout",
     "output_type": "stream",
     "text": [
      "이름\t총점\t평균\n",
      "백현우\t12\t3.0\n",
      "홍혜인\t15\t3.75\n",
      "윤은성\t12\t3.0\n",
      "홍수철\t11\t2.75\n"
     ]
    }
   ],
   "source": [
    "# create_oz_students 함수는 학생의 이름과 각 과목 점수를 입력받아 학생 정보를 딕셔너리 형태로 반환합니다.\n",
    "def create_oz_students(name, python, database, django, AWS):\n",
    "    return {\n",
    "        \"name\": name,\n",
    "        \"python\": python,\n",
    "        \"database\": database,\n",
    "        \"Django\": django,\n",
    "        \"AWS\": AWS\n",
    "    }\n",
    "    \n",
    "def get_sum(student):\n",
    "\treturn student[\"python\"] + student[\"database\"] + student[\"Django\"] + student[\"AWS\"]\n",
    "\t\n",
    "def get_average(student):\n",
    "\treturn get_sum / 4\t\n",
    "\n",
    "# oz_students 리스트는 create_oz_students 함수를 사용하여 각 학생의 정보를 포함하는 딕셔너리들의 리스트를 생성합니다.\n",
    "oz_students = [\n",
    "    create_oz_students(\"백현우\", 4, 3, 3, 2),\n",
    "    create_oz_students(\"홍혜인\", 4, 5, 2, 4),\n",
    "    create_oz_students(\"윤은성\", 3, 4, 4, 1),\n",
    "    create_oz_students(\"홍수철\", 2, 3, 1, 5)\n",
    "]\n",
    "\n",
    "# 출력할 표의 헤더를 설정합니다. 이름, 총점, 평균을 탭(\\t)으로 구분하여 출력합니다.\n",
    "print(\"이름\", \"총점\", \"평균\", sep=\"\\t\")\n",
    "\n",
    "# oz_students 리스트의 각 학생에 대해 반복문을 실행합니다.\n",
    "for student in oz_students:\n",
    "    # 각 학생의 Python, Database, Django, AWS 능력 점수를 합산하여 총점을 계산합니다.\n",
    "    ability_sum = student[\"python\"] + student[\"database\"] + student[\"Django\"] + student[\"AWS\"]\n",
    "    # 총점을 4로 나누어 평균을 계산합니다.\n",
    "    ability_average = ability_sum / 4\n",
    "    \n",
    "    # 학생의 이름, 총점, 평균을 탭(\\t)으로 구분하여 출력합니다.\n",
    "    print(student[\"name\"], ability_sum, ability_average, sep=\"\\t\")"
   ]
  },
  {
   "cell_type": "code",
   "execution_count": 9,
   "metadata": {},
   "outputs": [
    {
     "name": "stdout",
     "output_type": "stream",
     "text": [
      "이름\t총점\t평균\n",
      "백현우\t12\t3.0\n",
      "홍혜인\t15\t3.75\n",
      "윤은성\t12\t3.0\n",
      "홍수철\t11\t2.75\n"
     ]
    }
   ],
   "source": [
    "# create_oz_students 함수는 학생의 이름과 각 과목 점수를 입력받아 학생 정보를 딕셔너리 형태로 반환합니다.\n",
    "def create_oz_students(name, python, database, django, AWS):\n",
    "    return {\n",
    "        \"name\": name,\n",
    "        \"python\": python,\n",
    "        \"database\": database,\n",
    "        \"Django\": django,\n",
    "        \"AWS\": AWS\n",
    "    }\n",
    "    \n",
    "# get_sum 함수는 학생 딕셔너리를 받아서, python, database, Django, AWS 점수의 합을 반환합니다.\n",
    "def get_sum(student):\n",
    "    return student[\"python\"] + student[\"database\"] + student[\"Django\"] + student[\"AWS\"]\n",
    "\t\n",
    "# get_average 함수는 학생 딕셔너리를 받아서, 점수의 평균을 계산하여 반환합니다.\n",
    "def get_average(student):\n",
    "    return get_sum(student) / 4\t\n",
    "\t\n",
    "# to_string 함수는 학생 딕셔너리를 받아서, 이름, 총점, 평균을 탭(\\t)으로 구분한 문자열로 반환합니다.\n",
    "def to_string(student):\n",
    "    return f'{student[\"name\"]}\\t{get_sum(student)}\\t{get_average(student)}'\n",
    "\n",
    "# oz_students 리스트는 create_oz_students 함수를 사용하여 각 학생의 정보를 포함하는 딕셔너리들의 리스트를 생성합니다.\n",
    "oz_students = [\n",
    "    create_oz_students(\"백현우\", 4, 3, 3, 2),\n",
    "    create_oz_students(\"홍혜인\", 4, 5, 2, 4),\n",
    "    create_oz_students(\"윤은성\", 3, 4, 4, 1),\n",
    "    create_oz_students(\"홍수철\", 2, 3, 1, 5)\n",
    "]\n",
    "\n",
    "# 이름, 총점, 평균을 탭(\\t)으로 구분하여 출력합니다.\n",
    "print(\"이름\", \"총점\", \"평균\", sep=\"\\t\")\n",
    "\n",
    "# oz_students 리스트의 각 학생에 대해 반복문을 실행합니다.\n",
    "for student in oz_students:\n",
    "    # 학생 정보를 문자열로 변환하여 출력합니다.\n",
    "    print(to_string(student))"
   ]
  },
  {
   "cell_type": "markdown",
   "metadata": {},
   "source": [
    "**객체와 관련 코드를 분리**할 수 있게 하는 것이 객체 지향 프로그램의 핵심입니다.  \n",
    "개발자들은 이러한 객체 지향 프로그램을 반복적으로 만들다보니 이러한 구조를 자동으로 만들어줄 클래스 구조를 만들게 되었습니다."
   ]
  },
  {
   "cell_type": "markdown",
   "metadata": {},
   "source": [
    "#### 3. 클래스의 선언\n",
    "\n",
    "클래스 이름의 앞글자는 무조건 대문자입니다.(모두의 약속)  \n",
    "ex) oz_students → OzStudent\n",
    "```python\n",
    "# class 선언 구조\n",
    "\n",
    "class 클래스 이름:\n",
    "\t클래스 내용\n",
    "```"
   ]
  },
  {
   "cell_type": "code",
   "execution_count": 10,
   "metadata": {},
   "outputs": [],
   "source": [
    "# 클래스를 선언합니다.\n",
    "class CreateOzStudent:\n",
    "    pass  # 아직 클래스 내부에 아무 내용도 정의하지 않았음을 나타냅니다.\n",
    "\t\n",
    "# 클래스 이름과 같은 함수(생성자)를 사용해서 객체를 만듭니다.\n",
    "# 여기서 프로그래밍 언어로 함수(생성자)로 생성된 객체를 인스턴스라고 합니다.\n",
    "# class CreateOzStudent 클래스와 동일한 이름의 CreateOzStudent() 함수를 사용해 객체를 만드는데,\n",
    "# 이때 사용하는 CreateOzStudent() 함수를 생성자 함수라고 합니다.\n",
    "# student => 클래스를 이용해 만들어진 객체를 인스턴스라고 합니다.\n",
    "\n",
    "# CreateOzStudent 클래스의 인스턴스를 생성합니다.\n",
    "student = CreateOzStudent()\n",
    "\n",
    "# oz_students 리스트는 각 학생의 정보를 포함하는 딕셔너리들의 리스트를 생성합니다.\n",
    "oz_students = [\n",
    "    create_oz_students(\"백현우\", 4, 3, 3, 2),\n",
    "    create_oz_students(\"홍혜인\", 4, 5, 2, 4),\n",
    "    create_oz_students(\"윤은성\", 3, 4, 4, 1),\n",
    "    create_oz_students(\"홍수철\", 2, 3, 1, 5)\n",
    "]"
   ]
  },
  {
   "cell_type": "markdown",
   "metadata": {},
   "source": [
    "#### 이해도 체크리스트"
   ]
  },
  {
   "cell_type": "markdown",
   "metadata": {},
   "source": [
    "1. 객체란 무엇인가요?"
   ]
  },
  {
   "cell_type": "markdown",
   "metadata": {},
   "source": [
    "정답 :  \n",
    "데이터와 그 데이터를 처리하는 기능을 하나로 묶은 것."
   ]
  },
  {
   "cell_type": "markdown",
   "metadata": {},
   "source": [
    "2. 객체를 구성하는 속성과기능에 대해 설명해주세요."
   ]
  },
  {
   "cell_type": "markdown",
   "metadata": {},
   "source": [
    "정답 :  \n",
    "속성은 객체가 가지고 있는 데이터나 상태를 나타냄. 기능(메서드)는 객체가 수행할 수 있는 동작이나 기능을 나타냄"
   ]
  },
  {
   "cell_type": "markdown",
   "metadata": {},
   "source": [
    "3. 추상화에 대해 설명해주세요."
   ]
  },
  {
   "cell_type": "markdown",
   "metadata": {},
   "source": [
    "정답 :  \n",
    "불필요한 세부 사항을 숨기고 중요한 부분만을 나타내어 복잡성을 줄이고 시스템을 이해하고 관리하기 쉽게 만드는것. 클래스를 사용하여 공통적인 특성과 기능을 정의하고 세부 사항은 각 구체적인 클래스에서 구현"
   ]
  },
  {
   "cell_type": "markdown",
   "metadata": {},
   "source": [
    "4. 객체 지향 프로그램에 대해 설명해주세요."
   ]
  },
  {
   "cell_type": "markdown",
   "metadata": {},
   "source": [
    "정답 :  \n",
    "클래스와 객체를 사용하여 소프트웨어를 설계하고, 상속, 다형성, 캡슐화, 추상화 등의 개념을 통해 코드를 재사용 가능하고 유지보수하기 쉽게 만듭니다. 이는 복잡한 문제를 더 쉽게 해결하고 관리할 수 있도록 도와줍니다."
   ]
  },
  {
   "cell_type": "markdown",
   "metadata": {},
   "source": [
    "5. 클래스를 선언하는 구조에 대해 설명해주세요."
   ]
  },
  {
   "cell_type": "markdown",
   "metadata": {},
   "source": [
    "정답 :  \n",
    "#### 클래스 선언 구조  \n",
    "클래스 정의:  \n",
    "class 키워드를 사용하여 클래스를 정의합니다.  \n",
    "클래스 이름은 일반적으로 대문자로 시작합니다.  \n",
    "\n",
    "생성자 메서드 (__init__):  \n",
    "객체가 생성될 때 호출되는 초기화 메서드입니다.  \n",
    "클래스의 속성을 초기화합니다.  \n",
    "\n",
    "메서드 정의:  \n",
    "클래스 내부에 정의된 함수로, 객체의 동작을 정의합니다."
   ]
  },
  {
   "cell_type": "markdown",
   "metadata": {},
   "source": [
    "6. 인스턴스에 대해 설명해주세요."
   ]
  },
  {
   "cell_type": "markdown",
   "metadata": {},
   "source": [
    "정답 :  \n",
    "클래스를 사용하여 만든 객체. 클래스가 설계도면 인스턴스는 설계도를 바탕으로 만든 실제 제품."
   ]
  },
  {
   "cell_type": "markdown",
   "metadata": {},
   "source": [
    "#### 1. 생성자 함수"
   ]
  },
  {
   "cell_type": "code",
   "execution_count": 11,
   "metadata": {},
   "outputs": [
    {
     "ename": "TypeError",
     "evalue": "CreateOzStudent() takes no arguments",
     "output_type": "error",
     "traceback": [
      "\u001b[1;31m---------------------------------------------------------------------------\u001b[0m",
      "\u001b[1;31mTypeError\u001b[0m                                 Traceback (most recent call last)",
      "Cell \u001b[1;32mIn[11], line 8\u001b[0m\n\u001b[0;32m      3\u001b[0m \t\u001b[38;5;28;01mpass\u001b[39;00m\n\u001b[0;32m      5\u001b[0m student \u001b[38;5;241m=\u001b[39m CreateOzStudent()\n\u001b[0;32m      7\u001b[0m oz_students \u001b[38;5;241m=\u001b[39m [\n\u001b[1;32m----> 8\u001b[0m \t\u001b[43mCreateOzStudent\u001b[49m\u001b[43m(\u001b[49m\u001b[38;5;124;43m\"\u001b[39;49m\u001b[38;5;124;43m백현우\u001b[39;49m\u001b[38;5;124;43m\"\u001b[39;49m\u001b[43m,\u001b[49m\u001b[43m \u001b[49m\u001b[38;5;241;43m4\u001b[39;49m\u001b[43m,\u001b[49m\u001b[43m \u001b[49m\u001b[38;5;241;43m3\u001b[39;49m\u001b[43m,\u001b[49m\u001b[43m \u001b[49m\u001b[38;5;241;43m3\u001b[39;49m\u001b[43m,\u001b[49m\u001b[43m \u001b[49m\u001b[38;5;241;43m2\u001b[39;49m\u001b[43m)\u001b[49m,\n\u001b[0;32m      9\u001b[0m \tCreateOzStudent(\u001b[38;5;124m\"\u001b[39m\u001b[38;5;124m홍해인\u001b[39m\u001b[38;5;124m\"\u001b[39m, \u001b[38;5;241m4\u001b[39m, \u001b[38;5;241m5\u001b[39m, \u001b[38;5;241m2\u001b[39m, \u001b[38;5;241m4\u001b[39m),\n\u001b[0;32m     10\u001b[0m \tCreateOzStudent(\u001b[38;5;124m\"\u001b[39m\u001b[38;5;124m윤은성\u001b[39m\u001b[38;5;124m\"\u001b[39m, \u001b[38;5;241m3\u001b[39m, \u001b[38;5;241m4\u001b[39m, \u001b[38;5;241m4\u001b[39m, \u001b[38;5;241m1\u001b[39m),\n\u001b[0;32m     11\u001b[0m \tCreateOzStudent(\u001b[38;5;124m\"\u001b[39m\u001b[38;5;124m홍수철\u001b[39m\u001b[38;5;124m\"\u001b[39m, \u001b[38;5;241m2\u001b[39m, \u001b[38;5;241m3\u001b[39m, \u001b[38;5;241m1\u001b[39m, \u001b[38;5;241m5\u001b[39m)\n\u001b[0;32m     12\u001b[0m ]\n",
      "\u001b[1;31mTypeError\u001b[0m: CreateOzStudent() takes no arguments"
     ]
    }
   ],
   "source": [
    "# 클래스를 선언합니다.\n",
    "class CreateOzStudent:\n",
    "\tpass\n",
    "\t\n",
    "student = CreateOzStudent()\n",
    "\n",
    "oz_students = [\n",
    "\tCreateOzStudent(\"백현우\", 4, 3, 3, 2),\n",
    "\tCreateOzStudent(\"홍해인\", 4, 5, 2, 4),\n",
    "\tCreateOzStudent(\"윤은성\", 3, 4, 4, 1),\n",
    "\tCreateOzStudent(\"홍수철\", 2, 3, 1, 5)\n",
    "]"
   ]
  },
  {
   "cell_type": "markdown",
   "metadata": {},
   "source": [
    "생성자 함수를 이용해서 객체를 만들 때 그냥 만드는 것이 아닌, 객체에 적용 시키고자 하는 기본 속성이나 다른 처리를 할 수 있습니다.  \n",
    "바로, class에 만들 수 있는 `__init__` 함수를 이용합니다.\n",
    "```python\n",
    "class 클래스 이름:\n",
    "\tdef __init__(self, 추가적인 매개변수):\n",
    "```\n",
    "여기서 init을 이용한 내부 함수 생성 시 주의해야 할 점이 있습니다.  \n",
    "매개변수로 첫번째값은 self를 입력해야 합니다.\n",
    "- self이외에 다른 변수명도 사용이 가능하지만, 전 세계 개발자가 공통으로 사용하는 변수명은 self이기 때문에, self를 권장합니다.\n",
    "- self로 왜 자기자신을 호출하나요? → slef는 클래스의 인스턴스 메서드에서 그 인스턴스 자신을 가리키는 변수입니다. self를 사용하여 클래스 내부에서 인스턴스 변수와 메서드에 접근할 수 있습니다."
   ]
  },
  {
   "cell_type": "markdown",
   "metadata": {},
   "source": [
    "#### 2. Self"
   ]
  },
  {
   "cell_type": "markdown",
   "metadata": {},
   "source": [
    "- **self**: 클래스의 인스턴스 객체를 참조하는 변수로, 메소드 내에서 사용됩니다.\n",
    "- 클래스 내의 메소드에서 `self`는 메소드가 호출된 객체 자신을 가리킵니다."
   ]
  },
  {
   "cell_type": "code",
   "execution_count": 12,
   "metadata": {},
   "outputs": [
    {
     "name": "stdout",
     "output_type": "stream",
     "text": [
      "10\n"
     ]
    }
   ],
   "source": [
    "class MyClass:\n",
    "    def __init__(self, value):\n",
    "        self.value = value  # self를 사용하여 인스턴스 변수에 접근\n",
    "\n",
    "    def print_value(self):\n",
    "        print(self.value)  # self를 사용하여 인스턴스 변수에 접근\n",
    "\n",
    "obj = MyClass(10)  # MyClass의 인스턴스 생성\n",
    "obj.print_value()  # 메소드 호출, 출력: 10"
   ]
  },
  {
   "cell_type": "markdown",
   "metadata": {},
   "source": [
    "- self에 값이 어떻게 채워지나요?  \n",
    "파이썬에서는 클래스의 메소드를 호출할 때, 첫 번째 매개변수에 자동으로 인스턴스 객체가 전달됩니다. 그래서 `self`는 호출된 객체 자신을 가리키게 됩니다.  \n",
    "ex)"
   ]
  },
  {
   "cell_type": "code",
   "execution_count": 13,
   "metadata": {},
   "outputs": [
    {
     "name": "stdout",
     "output_type": "stream",
     "text": [
      "<__main__.MyClass object at 0x0000016E1C656610>\n"
     ]
    }
   ],
   "source": [
    "class MyClass:\n",
    "    def print_self(self):\n",
    "        print(self)  # self는 호출된 객체를 가리킵니다\n",
    "\n",
    "obj = MyClass()\n",
    "obj.print_self()  # MyClass의 인스턴스가 self로 전달됩니다."
   ]
  },
  {
   "cell_type": "markdown",
   "metadata": {},
   "source": [
    "위 예제에서 `obj.print_self()`를 호출하면 `self`는 `obj`를 가리키게 됩니다."
   ]
  },
  {
   "cell_type": "markdown",
   "metadata": {},
   "source": [
    "#### 3. 생성자의 활용"
   ]
  },
  {
   "cell_type": "code",
   "execution_count": 14,
   "metadata": {},
   "outputs": [
    {
     "data": {
      "text/plain": [
       "['today_study.ipynb']"
      ]
     },
     "execution_count": 14,
     "metadata": {},
     "output_type": "execute_result"
    }
   ],
   "source": [
    "import os\n",
    "\n",
    "os.listdir()\n",
    "\n",
    "# os는 파이썬의 표준 라이브러리 모듈이고, \n",
    "# listdir()은 os 모듈의 메소드입니다. \n",
    "# os.listdir()은 현재 디렉토리의 파일과 폴더 목록을 반환합니다."
   ]
  },
  {
   "cell_type": "markdown",
   "metadata": {},
   "source": [
    "이 때 os모듈이 메모리 어딘가에서 실행이 됩니다.  \n",
    "모듈의 실행 위치는 어떻게 찾을까요?  \n",
    "**self는 자기 자신을 참조**합니다. 참조라는건 결국 메모리가 어디에 위치해 있는지 주소를 참조합니다.  \n",
    "그렇다면 self에 값은 누가 넣어줄까요?  \n",
    "파이썬에서 클래스 내부 함수의 매개변수 가장 첫번째 값에 자동으로 채워집니다.  \n",
    "그래서 클래스.메소드() 만으로 우리는 쉽게 기능을 사용할 수 있습니다."
   ]
  },
  {
   "cell_type": "code",
   "execution_count": 15,
   "metadata": {},
   "outputs": [
    {
     "name": "stdout",
     "output_type": "stream",
     "text": [
      "백현우\n",
      "4\n",
      "3\n",
      "3\n",
      "2\n"
     ]
    }
   ],
   "source": [
    "# 학생 정보를 저장하는 클래스 정의\n",
    "class CreateOzStudents:\n",
    "    def __init__(self, name, python, database, django, AWS):\n",
    "        self.name = name  # 학생 이름\n",
    "        self.python = python  # 파이썬 점수\n",
    "        self.database = database  # 데이터베이스 점수\n",
    "        self.Django = django  # 장고 점수\n",
    "        self.AWS = AWS  # AWS 점수\n",
    "\n",
    "# 학생들의 정보 리스트 생성\n",
    "oz_students = [\n",
    "    CreateOzStudents(\"백현우\", 4, 3, 3, 2),\n",
    "    CreateOzStudents(\"홍해인\", 4, 5, 2, 4),\n",
    "    CreateOzStudents(\"윤은성\", 3, 4, 4, 1),\n",
    "    CreateOzStudents(\"홍수철\", 2, 3, 1, 5)\n",
    "]\n",
    "\n",
    "# oz_students 인스턴스 속성에 접근하는 방법\n",
    "print(oz_students[0].name)    # 첫 번째 학생 이름 출력\n",
    "print(oz_students[0].python)  # 첫 번째 학생의 파이썬 점수 출력\n",
    "print(oz_students[0].database)# 첫 번째 학생의 데이터베이스 점수 출력\n",
    "print(oz_students[0].Django)  # 첫 번째 학생의 장고 점수 출력\n",
    "print(oz_students[0].AWS)     # 첫 번째 학생의 AWS 점수 출력"
   ]
  },
  {
   "cell_type": "markdown",
   "metadata": {},
   "source": [
    "#### 4. 생성자와 메서드의 활용"
   ]
  },
  {
   "cell_type": "code",
   "execution_count": 16,
   "metadata": {},
   "outputs": [
    {
     "name": "stdout",
     "output_type": "stream",
     "text": [
      "이름\t총점\t평균\n",
      "백현우\t12\t3.0\n",
      "홍해인\t15\t3.75\n",
      "윤은성\t12\t3.0\n",
      "홍수철\t11\t2.75\n"
     ]
    }
   ],
   "source": [
    "# 학생 정보를 저장하는 클래스 정의\n",
    "class CreateOzStudents:\n",
    "    def __init__(self, name, python, database, django, AWS):\n",
    "        self.name = name  # 학생 이름\n",
    "        self.python = python  # 파이썬 점수\n",
    "        self.database = database  # 데이터베이스 점수\n",
    "        self.Django = django  # 장고 점수\n",
    "        self.AWS = AWS  # AWS 점수\n",
    "\n",
    "    # 학생의 총점을 계산하는 메소드\n",
    "    def get_sum(self):\n",
    "        return self.python + self.database + self.Django + self.AWS\n",
    "\n",
    "    # 학생의 평균 점수를 계산하는 메소드\n",
    "    def get_average(self):\n",
    "        return self.get_sum() / 4\n",
    "\n",
    "    # 학생 정보를 문자열로 반환하는 메소드\n",
    "    def to_string(self):\n",
    "        return f'{self.name}\\t{self.get_sum()}\\t{self.get_average()}'\n",
    "\n",
    "# 학생들의 정보 리스트 생성\n",
    "oz_students = [\n",
    "    CreateOzStudents(\"백현우\", 4, 3, 3, 2),\n",
    "    CreateOzStudents(\"홍해인\", 4, 5, 2, 4),\n",
    "    CreateOzStudents(\"윤은성\", 3, 4, 4, 1),\n",
    "    CreateOzStudents(\"홍수철\", 2, 3, 1, 5)\n",
    "]\n",
    "\n",
    "# 학생들의 이름, 총점, 평균을 출력\n",
    "print(\"이름\", \"총점\", \"평균\", sep=\"\\t\")\n",
    "for student in oz_students:\n",
    "    print(student.to_string())"
   ]
  },
  {
   "cell_type": "markdown",
   "metadata": {},
   "source": [
    "#### 이해도 체크리스트"
   ]
  },
  {
   "cell_type": "markdown",
   "metadata": {},
   "source": [
    "1. 생성자 함수란 무엇인가요?      \n",
    "    a. 클래스의 인스턴스를 초기화하는 메서드입니다.      \n",
    "    b. 클래스의 인스턴스를 삭제하는 메서드입니다.      \n",
    "    c. 클래스의 인스턴스를 복제하는 메서드입니다."
   ]
  },
  {
   "cell_type": "markdown",
   "metadata": {},
   "source": [
    "정답 :  \n",
    "a"
   ]
  },
  {
   "cell_type": "markdown",
   "metadata": {},
   "source": [
    "2. 생성자 함수는 클래스 내에서 일반적으로 어떻게 정의되나요?  \n",
    "    a. `def __init__(self, 추가적인 매개변수):`      \n",
    "    b. `def __start__(self, 추가적인 매개변수):`      \n",
    "    c. `def __create__(self, 추가적인 매개변수):`"
   ]
  },
  {
   "cell_type": "markdown",
   "metadata": {},
   "source": [
    "정답 :  \n",
    "a"
   ]
  },
  {
   "cell_type": "markdown",
   "metadata": {},
   "source": [
    "3. 다음 중 올바른 생성자 함수 호출 예제는 무엇일까요?      \n",
    "    a. `student = CreateOzStudent()`      \n",
    "    b. `student = CreateOzStudent(\"홍해인\", 4, 5, 2, 4)`      \n",
    "    c. `student = CreateOzStudent.init(\"홍해인\", 4, 5, 2, 4)`"
   ]
  },
  {
   "cell_type": "markdown",
   "metadata": {},
   "source": [
    "정답 :  \n",
    "b"
   ]
  },
  {
   "cell_type": "markdown",
   "metadata": {},
   "source": [
    "4. `self` 는 무엇을 가리키나요?      \n",
    "    a. 클래스의 정의를 가리킵니다.      \n",
    "    b. 메서드의 정의를 가리킵니다.      \n",
    "    c. 인스턴스 객체 자신을 가리킵니다."
   ]
  },
  {
   "cell_type": "markdown",
   "metadata": {},
   "source": [
    "정답 :  \n",
    "c"
   ]
  },
  {
   "cell_type": "markdown",
   "metadata": {},
   "source": [
    "5. 왜 클래스의 메서드 첫 번째 매개변수로 `self`를 사용해야 하나요?      \n",
    "    a. `self`는 클래스의 모든 인스턴스에서 공유되는 변수를 나타내기 때문입니다.      \n",
    "    b. `self`는 메서드가 호출된 인스턴스 객체를 참조하기 때문입니다.      \n",
    "    c. `self`는 클래스 정의 자체를 참조하기 때문입니다."
   ]
  },
  {
   "cell_type": "markdown",
   "metadata": {},
   "source": [
    "정답 :  \n",
    "b"
   ]
  },
  {
   "cell_type": "markdown",
   "metadata": {},
   "source": [
    "6. 다음 코드에서 `self`는 무엇을 참조하나요?\n",
    "    \n",
    "    ```python\n",
    "    class MyClass:\n",
    "        def __init__(self, value):\n",
    "            self.value = value\n",
    "    \n",
    "        def print_value(self):\n",
    "            print(self.value)\n",
    "    \n",
    "    obj = MyClass(10)\n",
    "    obj.print_value()\n",
    "    ```\n",
    "    \n",
    "    a. `MyClass` 클래스  \n",
    "    b. `obj` 객체  \n",
    "    c. `value` 변수"
   ]
  },
  {
   "cell_type": "markdown",
   "metadata": {},
   "source": [
    "정답 :  \n",
    "b"
   ]
  },
  {
   "cell_type": "markdown",
   "metadata": {},
   "source": [
    "7. 다음 코드에서 `__init__` 함수의 역할은 무엇인가요?\n",
    "    \n",
    "    ```python\n",
    "    class CreateOzStudents:\n",
    "        def __init__(self, name, python, database, django, AWS):\n",
    "            self.name = name\n",
    "            self.python = python\n",
    "            self.database = database\n",
    "            self.Django = django\n",
    "            self.AWS = AWS\n",
    "    ```\n",
    "    \n",
    "    a. 인스턴스를 초기화하고 초기 속성을 설정합니다.      \n",
    "    b. 인스턴스를 삭제하고 속성을 해제합니다.      \n",
    "    c. 인스턴스를 복제하고 속성을 복사합니다."
   ]
  },
  {
   "cell_type": "markdown",
   "metadata": {},
   "source": [
    "정답 :  \n",
    "a"
   ]
  },
  {
   "cell_type": "markdown",
   "metadata": {},
   "source": [
    "#### 1. 인스턴스\n",
    "인스턴스는 클래스에서 생성된 객체를 의미합니다.  \n",
    "다양한 클래스가 존재하는 경우, 어떤 클래스에서 생성된 인스턴스인지 파악하기 어려울 수 있습니다. 또한 인스턴스가 생성된 클래스에 따라 다르게 대응해야 하는 상황도 있습니다. 이럴 때, `isinstance()` 함수를 사용하여 인스턴스가 어떤 클래스에서 생성되었는지 파악할 수 있습니다.  \n",
    "`isinstance()`: 이 함수는 첫 번째 매개변수로 인스턴스(객체)를, 두 번째 매개변수로 클래스를 입력받습니다. 두 번째 매개변수로 입력한 클래스로 첫 번째 매개변수의 인스턴스가 생성되었는지를 True, False로 판별하여 반환합니다."
   ]
  },
  {
   "cell_type": "code",
   "execution_count": 17,
   "metadata": {},
   "outputs": [
    {
     "name": "stdout",
     "output_type": "stream",
     "text": [
      "isinstance(student, Student): True\n"
     ]
    }
   ],
   "source": [
    "# 학생 정보를 저장하는 클래스 정의\n",
    "class Student:\n",
    "    def __init__(self):\n",
    "        pass\n",
    "\n",
    "# Student 클래스의 인스턴스를 생성\n",
    "student = Student()\n",
    "\n",
    "# student 객체가 Student 클래스의 인스턴스인지 확인하고 결과를 출력\n",
    "print(\"isinstance(student, Student):\", isinstance(student, Student))"
   ]
  },
  {
   "cell_type": "markdown",
   "metadata": {},
   "source": [
    "#### 2. 인스턴스의 구분"
   ]
  },
  {
   "cell_type": "code",
   "execution_count": 18,
   "metadata": {},
   "outputs": [
    {
     "name": "stdout",
     "output_type": "stream",
     "text": [
      "파이썬을 수강중입니다.\n",
      "파이썬을 수강중입니다.\n",
      "파이썬을 수강중입니다.\n",
      "자바를 수강중입니다.\n",
      "파이썬을 수강중입니다.\n"
     ]
    }
   ],
   "source": [
    "# Python 수업을 정의하는 클래스\n",
    "class Python:\n",
    "    def python(self):\n",
    "        print(\"파이썬을 수강중입니다.\")  # Python 수업을 수강 중임을 출력\n",
    "\n",
    "# Java 수업을 정의하는 클래스\n",
    "class Java:\n",
    "    def java(self):\n",
    "        print(\"자바를 수강중입니다.\")  # Java 수업을 수강 중임을 출력\n",
    "\n",
    "# 다양한 프로그래밍 과목의 인스턴스를 리스트로 생성\n",
    "programming_subjects = [Python(), Python(), Python(), Java(), Python()]\n",
    "\n",
    "# 각 프로그래밍 과목 인스턴스를 순회하며 해당 수업을 출력\n",
    "for subject in programming_subjects:\n",
    "    if isinstance(subject, Python):\n",
    "        subject.python()  # subject가 Python 클래스의 인스턴스인 경우, python 메서드 호출\n",
    "    elif isinstance(subject, Java):\n",
    "        subject.java()  # subject가 Java 클래스의 인스턴스인 경우, java 메서드 호출"
   ]
  },
  {
   "cell_type": "markdown",
   "metadata": {},
   "source": [
    "#### 3. 특수 메서드의 사용"
   ]
  },
  {
   "cell_type": "code",
   "execution_count": 19,
   "metadata": {},
   "outputs": [
    {
     "name": "stdout",
     "output_type": "stream",
     "text": [
      "이름\t총점\t평균\n",
      "백현우\t12\t3.0\n",
      "홍해인\t15\t3.75\n",
      "윤은성\t12\t3.0\n",
      "홍수철\t11\t2.75\n"
     ]
    }
   ],
   "source": [
    "# __str__ 사용\n",
    "# 학생 정보를 저장하는 클래스 정의\n",
    "class CreateOzStudents:\n",
    "    def __init__(self, name, python, database, django, AWS):\n",
    "        self.name = name  # 학생 이름\n",
    "        self.python = python  # 파이썬 점수\n",
    "        self.database = database  # 데이터베이스 점수\n",
    "        self.Django = django  # 장고 점수\n",
    "        self.AWS = AWS  # AWS 점수\n",
    "\n",
    "    # 학생의 총점을 계산하는 메소드\n",
    "    def get_sum(self):\n",
    "        return self.python + self.database + self.Django + self.AWS\n",
    "\n",
    "    # 학생의 평균 점수를 계산하는 메소드\n",
    "    def get_average(self):\n",
    "        return self.get_sum() / 4\n",
    "\n",
    "    # 학생 정보를 문자열로 반환하는 메소드\n",
    "    def __str__(self):\n",
    "        return f'{self.name}\\t{self.get_sum()}\\t{self.get_average()}'\n",
    "\n",
    "# 학생들의 정보 리스트 생성\n",
    "oz_students = [\n",
    "    CreateOzStudents(\"백현우\", 4, 3, 3, 2),\n",
    "    CreateOzStudents(\"홍해인\", 4, 5, 2, 4),\n",
    "    CreateOzStudents(\"윤은성\", 3, 4, 4, 1),\n",
    "    CreateOzStudents(\"홍수철\", 2, 3, 1, 5)\n",
    "]\n",
    "\n",
    "# 학생들의 이름, 총점, 평균을 출력\n",
    "print(\"이름\", \"총점\", \"평균\", sep=\"\\t\")\n",
    "for student in oz_students:\n",
    "    print(str(student))  # 각 학생 객체의 문자열 표현을 출력"
   ]
  },
  {
   "cell_type": "markdown",
   "metadata": {},
   "source": [
    "#### 이해도 체크리스트"
   ]
  },
  {
   "cell_type": "markdown",
   "metadata": {},
   "source": [
    "1. 인스턴스란 무엇인가요?  \n",
    "    a. 클래스에서 생성된 객체      \n",
    "    b. 함수에서 생성된 객체      \n",
    "    c. 모듈에서 생성된 객체"
   ]
  },
  {
   "cell_type": "markdown",
   "metadata": {},
   "source": [
    "정답 :  \n",
    "a"
   ]
  },
  {
   "cell_type": "markdown",
   "metadata": {},
   "source": [
    "2. `isinstance()` 함수의 역할은 무엇인가요?  \n",
    "    a. 객체의 타입을 확인합니다.  \n",
    "    b. 객체가 특정 클래스의 인스턴스인지 확인합니다.  \n",
    "    c. 객체의 속성을 확인합니다."
   ]
  },
  {
   "cell_type": "markdown",
   "metadata": {},
   "source": [
    "정답 :  \n",
    "b"
   ]
  },
  {
   "cell_type": "markdown",
   "metadata": {},
   "source": [
    "3. 다음 코드의 출력은 무엇인가요?      \n",
    "    ```python\n",
    "    class Student:\n",
    "        def __init__(self):\n",
    "            pass\n",
    "    \n",
    "    student = Student()\n",
    "    print(\"isinstance(student, Student):\", isinstance(student, Student))\n",
    "    ```      \n",
    "    a. `isinstance(student, Student): False`      \n",
    "    b. `isinstance(student, Student): True`      \n",
    "    c. `isinstance(student, Student): Error`"
   ]
  },
  {
   "cell_type": "markdown",
   "metadata": {},
   "source": [
    "정답 :  \n",
    "b"
   ]
  },
  {
   "cell_type": "markdown",
   "metadata": {},
   "source": [
    "4. 다음 코드의 출력은 무엇인가요?      \n",
    "    ```python\n",
    "    class Python:\n",
    "        def python(self):\n",
    "            print(\"파이썬을 수강중입니다.\")\n",
    "    \n",
    "    class Java:\n",
    "        def java(self):\n",
    "            print(\"자바를 수강중입니다.\")\n",
    "    \n",
    "    programming_subjects = [Python(), Python(), Python(), Java(), Python()]\n",
    "    \n",
    "    for subject in programming_subjects:\n",
    "        if isinstance(subject, Python):\n",
    "            subject.python()\n",
    "        elif isinstance(subject, Java):\n",
    "            subject.java()\n",
    "    ```      \n",
    "    a. 파이썬을 수강중입니다. (5번 출력)  \n",
    "    b. 자바를 수강중입니다. (5번 출력)  \n",
    "    c. 파이썬을 수강중입니다. (4번 출력), 자바를 수강중입니다. (1번 출력)"
   ]
  },
  {
   "cell_type": "markdown",
   "metadata": {},
   "source": [
    "정답 :  \n",
    "c"
   ]
  },
  {
   "cell_type": "markdown",
   "metadata": {},
   "source": [
    "5. `__str__` 메서드는 어떤 역할을 하나요?  \n",
    "    a. 객체를 문자열로 반환합니다.  \n",
    "    b. 객체를 숫자로 반환합니다.  \n",
    "    c. 객체를 리스트로 반환합니다."
   ]
  },
  {
   "cell_type": "markdown",
   "metadata": {},
   "source": [
    "정답 :  \n",
    "a"
   ]
  },
  {
   "cell_type": "markdown",
   "metadata": {},
   "source": [
    "#### 1. 클래스 변수\n",
    "```python\n",
    "# 클래스 변수 만들기\n",
    "class 클래스 이름:\n",
    "\t클래스 변수 = 값\n",
    "\t\n",
    "# 클래스 변수에 접근하기\n",
    "클래스 이름.변수 이름\n",
    "```"
   ]
  },
  {
   "cell_type": "code",
   "execution_count": 1,
   "metadata": {},
   "outputs": [
    {
     "name": "stdout",
     "output_type": "stream",
     "text": [
      "1번째 수강생의 정보가 추가되었습니다.\n",
      "2번째 수강생의 정보가 추가되었습니다.\n",
      "3번째 수강생의 정보가 추가되었습니다.\n",
      "4번째 수강생의 정보가 추가되었습니다.\n",
      "현재 데이터가 입력된 총 수강생은 4명 입니다.\n"
     ]
    }
   ],
   "source": [
    "# 클래스 변수 사용\n",
    "# 학생 정보를 저장하는 클래스 정의\n",
    "class CreateOzStudents:\n",
    "\n",
    "    count = 0  # 클래스 변수 정의, 모든 인스턴스가 공유하는 변수\n",
    "\n",
    "    def __init__(self, name, python, database, django, AWS):\n",
    "        self.name = name  # 학생 이름\n",
    "        self.python = python  # 파이썬 점수\n",
    "        self.database = database  # 데이터베이스 점수\n",
    "        self.Django = django  # 장고 점수\n",
    "        self.AWS = AWS  # AWS 점수\n",
    "\n",
    "        CreateOzStudents.count += 1  # 인스턴스가 생성될 때마다 클래스 변수 count 증가\n",
    "        print(f'{CreateOzStudents.count}번째 수강생의 정보가 추가되었습니다.')  # 현재 인스턴스가 몇 번째인지 출력\n",
    "\n",
    "# 학생들의 정보 리스트 생성\n",
    "oz_students = [\n",
    "    CreateOzStudents(\"백현우\", 4, 3, 3, 2),\n",
    "    CreateOzStudents(\"홍해인\", 4, 5, 2, 4),\n",
    "    CreateOzStudents(\"윤은성\", 3, 4, 4, 1),\n",
    "    CreateOzStudents(\"홍수철\", 2, 3, 1, 5)\n",
    "]\n",
    "\n",
    "# 현재까지 입력된 총 수강생 수 출력\n",
    "print(f'현재 데이터가 입력된 총 수강생은 {CreateOzStudents.count}명 입니다.')"
   ]
  },
  {
   "cell_type": "markdown",
   "metadata": {},
   "source": [
    "생성하는 방법은 일반 변수와 다르지 않아 어렵지 않지만,  \n",
    "차이가 있다면 클래스 안에 변수를 생성했기 때문에 사용시 [클래스 이름.변수 이름]으로 사용해야 합니다."
   ]
  },
  {
   "cell_type": "markdown",
   "metadata": {},
   "source": [
    "#### 2. 클래드 메서드  \n",
    "클래스 메서드는 다른 방법으로 만들어집니다.  \n",
    "@classmethod라는 데코레이터를 이용합니다.  \n",
    "함수에서 사용된 함수 데코레이터와 만드는 방법은 동일하나 명칭은 클래스 데코레이터입니다.  \n",
    "클래스 데코레이터를 사용해 클래스 함수를 만드는 구문은 아래와 같습니다.  \n",
    "```python\n",
    "class 클래스 이름:\n",
    "\t@classmethod\n",
    "\tdef 클래스 함수명(cls, 매개변수):\n",
    "\t\tpass\n",
    "```  \n",
    "그리고 클래스 함수를 호출하는 방법은 아래와 같습니다.  \n",
    "```python\n",
    "클래스 이름.함수 이름(매개변수)\n",
    "```"
   ]
  },
  {
   "cell_type": "code",
   "execution_count": 2,
   "metadata": {},
   "outputs": [
    {
     "name": "stdout",
     "output_type": "stream",
     "text": [
      "수강생 데이터베이스 정보\n",
      "이름\t총점\t평균\n",
      "백현우\t12\t3.0\n",
      "홍해인\t15\t3.75\n",
      "윤은성\t12\t3.0\n",
      "홍수철\t11\t2.75\n"
     ]
    }
   ],
   "source": [
    "# 클래스 함수를 작성한 코드\n",
    "# 학생 정보를 저장하는 클래스 정의\n",
    "class CreateOzStudents:\n",
    "    \n",
    "    student = []  # 클래스 변수, 모든 인스턴스가 공유하는 학생 리스트\n",
    "\n",
    "    @classmethod\n",
    "    def print(cls):\n",
    "        # 클래스 메서드, 모든 학생 정보를 출력\n",
    "        print(\"수강생 데이터베이스 정보\")\n",
    "        print(\"이름\\t총점\\t평균\")\n",
    "        for student in cls.student:\n",
    "            print(str(student))\n",
    "    \n",
    "    def __init__(self, name, python, database, django, AWS):\n",
    "        # 인스턴스 초기화 메서드, 각 학생의 정보를 설정\n",
    "        self.name = name  # 학생 이름\n",
    "        self.python = python  # 파이썬 점수\n",
    "        self.database = database  # 데이터베이스 점수\n",
    "        self.Django = django  # 장고 점수\n",
    "        self.AWS = AWS  # AWS 점수\n",
    "\n",
    "        # 새로운 학생이 추가될 때마다 student 리스트에 추가\n",
    "        CreateOzStudents.student.append(self)\n",
    "\n",
    "    # 학생의 총점을 계산하는 메소드\n",
    "    def get_sum(self):\n",
    "        return self.python + self.database + self.Django + self.AWS\n",
    "\n",
    "    # 학생의 평균 점수를 계산하는 메소드\n",
    "    def get_average(self):\n",
    "        return self.get_sum() / 4\n",
    "\n",
    "    # 학생 정보를 문자열로 반환하는 메소드\n",
    "    def __str__(self):\n",
    "        return f'{self.name}\\t{self.get_sum()}\\t{self.get_average()}'\n",
    "\n",
    "# 학생들의 정보 리스트 생성\n",
    "CreateOzStudents(\"백현우\", 4, 3, 3, 2)\n",
    "CreateOzStudents(\"홍해인\", 4, 5, 2, 4)\n",
    "CreateOzStudents(\"윤은성\", 3, 4, 4, 1)\n",
    "CreateOzStudents(\"홍수철\", 2, 3, 1, 5)\n",
    "\n",
    "# 클래스 메서드를 사용하여 모든 학생 정보 출력\n",
    "CreateOzStudents.print()"
   ]
  },
  {
   "cell_type": "markdown",
   "metadata": {},
   "source": [
    "클래스로 인스턴스를 생성하면 클래스 내부에 선언된 함수(매개변수에 self가 포함된 함수)가 자동으로 호출됩니다. 그리고 클래스 함수는 CreateOzStudent.함수명() 형식으로 실행할 수 있습니다."
   ]
  },
  {
   "cell_type": "markdown",
   "metadata": {},
   "source": [
    "#### 이해도 체크리스트"
   ]
  },
  {
   "cell_type": "markdown",
   "metadata": {},
   "source": [
    "1. 클래스 변수란 무엇인가요?      \n",
    "    a. 클래스 내부에서 정의된 변수로, 모든 인스턴스가 공유합니다.      \n",
    "    b. 인스턴스 내부에서 정의된 변수로, 각 인스턴스마다 독립적으로 존재합니다.      \n",
    "    c. 함수 내부에서 정의된 변수로, 함수가 호출될 때마다 초기화됩니다."
   ]
  },
  {
   "cell_type": "markdown",
   "metadata": {},
   "source": [
    "정답 :  \n",
    "a"
   ]
  },
  {
   "cell_type": "markdown",
   "metadata": {},
   "source": [
    "2. 클래스 변수를 정의하는 방법은 무엇인가요?      \n",
    "    a. 클래스 내부에서 `def` 키워드를 사용하여 정의합니다.      \n",
    "    b. 클래스 내부에서 함수 외부에 정의합니다.      \n",
    "    c. 클래스 내부에서 `__init__` 메서드 내부에 정의합니다.      "
   ]
  },
  {
   "cell_type": "markdown",
   "metadata": {},
   "source": [
    "정답 :  \n",
    "b"
   ]
  },
  {
   "cell_type": "markdown",
   "metadata": {},
   "source": [
    "3. 클래스 변수에 접근하는 방법은 무엇인가요?      \n",
    "    a. `인스턴스명.변수명`      \n",
    "    b. `클래스명.변수명`      \n",
    "    c. `self.변수명`"
   ]
  },
  {
   "cell_type": "markdown",
   "metadata": {},
   "source": [
    "정답 :  \n",
    "b"
   ]
  },
  {
   "cell_type": "markdown",
   "metadata": {},
   "source": [
    "4. 클래스 메서드란 무엇인가요?      \n",
    "    a. 클래스 내부에서 정의된 함수로, 인스턴스가 아닌 클래스 자체에 바인딩됩니다.      \n",
    "    b. 클래스 내부에서 정의된 함수로, 인스턴스에 바인딩됩니다.      \n",
    "    c. 클래스 외부에서 정의된 함수로, 인스턴스에 바인딩됩니다.  "
   ]
  },
  {
   "cell_type": "markdown",
   "metadata": {},
   "source": [
    "정답 :  \n",
    "a"
   ]
  },
  {
   "cell_type": "markdown",
   "metadata": {},
   "source": [
    "5. 클래스 메서드를 정의하는 방법은 무엇인가요?  \n",
    "    a. `@staticmethod` 데코레이터를 사용하여 정의합니다.  \n",
    "    b. `@classmethod` 데코레이터를 사용하여 정의합니다.  \n",
    "    c. `def` 키워드를 사용하여 정의합니다."
   ]
  },
  {
   "cell_type": "markdown",
   "metadata": {},
   "source": [
    "정답 :  \n",
    "b"
   ]
  },
  {
   "cell_type": "markdown",
   "metadata": {},
   "source": [
    "6. 클래스 메서드를 호출하는 방법은 무엇인가요?  \n",
    "    a. `인스턴스명.메서드명()`  \n",
    "    b. `클래스명.메서드명()`  \n",
    "    c. `self.메서드명()`"
   ]
  },
  {
   "cell_type": "markdown",
   "metadata": {},
   "source": [
    "정답 :  \n",
    "b"
   ]
  },
  {
   "cell_type": "markdown",
   "metadata": {},
   "source": [
    "#### 1. 프라이빗 변수\n",
    "객체 지향 프로그래밍의 최종 목표는 객체를 효율적으로 만들고 사용하는 것입니다."
   ]
  },
  {
   "cell_type": "code",
   "execution_count": 3,
   "metadata": {},
   "outputs": [
    {
     "name": "stdout",
     "output_type": "stream",
     "text": [
      "원의 둘레: 62.83185307179586\n",
      "원의 넓이: 314.1592653589793\n"
     ]
    }
   ],
   "source": [
    "import math  # 수학 관련 함수와 상수를 제공하는 모듈을 임포트\n",
    "\n",
    "# 원의 정보를 저장하는 클래스 정의\n",
    "class OzCircle:\n",
    "    def __init__(self, radius):\n",
    "        self.radius = radius  # 반지름 값을 초기화\n",
    "\n",
    "    def get_circumference(self):\n",
    "        # 원의 둘레를 계산하여 반환\n",
    "        return 2 * math.pi * self.radius\n",
    "\n",
    "    def get_area(self):\n",
    "        # 원의 넓이를 계산하여 반환\n",
    "        return math.pi * (self.radius ** 2)\n",
    "\n",
    "# OzCircle 클래스의 인스턴스를 생성\n",
    "circle = OzCircle(10)\n",
    "\n",
    "# circle.radius = -2\n",
    "\n",
    "# 원의 둘레를 출력\n",
    "print(\"원의 둘레:\", circle.get_circumference())\n",
    "\n",
    "# 원의 넓이를 출력\n",
    "print(\"원의 넓이:\", circle.get_area())"
   ]
  },
  {
   "cell_type": "code",
   "execution_count": 5,
   "metadata": {},
   "outputs": [
    {
     "name": "stdout",
     "output_type": "stream",
     "text": [
      "원의 둘레: 62.83185307179586\n",
      "원의 넓이: 314.1592653589793\n"
     ]
    }
   ],
   "source": [
    "# 프라이빗 변수 사용 코드\n",
    "import math  # 수학 관련 함수와 상수를 제공하는 모듈을 임포트\n",
    "\n",
    "# 원의 정보를 저장하는 클래스 정의\n",
    "class OzCircle:\n",
    "    def __init__(self, radius):\n",
    "        self.__radius = radius  # 반지름 값을 초기화, __로 시작하는 변수는 프라이빗 변수입니다.\n",
    "\n",
    "    def get_circumference(self):\n",
    "        # 원의 둘레를 계산하여 반환\n",
    "        return 2 * math.pi * self.__radius\n",
    "\n",
    "    def get_area(self):\n",
    "        # 원의 넓이를 계산하여 반환\n",
    "        return math.pi * (self.__radius ** 2)\n",
    "\n",
    "# OzCircle 클래스의 인스턴스를 생성\n",
    "circle = OzCircle(10)\n",
    "\n",
    "# 프라이 변수인 __radius는 직접 접근할 수 없으므로\n",
    "# 다음 줄은 새로운 속성 radius를 추가하는 것이지 기존의 __radius를 변경하지는 않음\n",
    "circle.radius = -2\n",
    "\n",
    "# 원의 둘레를 출력\n",
    "print(\"원의 둘레:\", circle.get_circumference())\n",
    "\n",
    "# 원의 넓이를 출력\n",
    "print(\"원의 넓이:\", circle.get_area())"
   ]
  },
  {
   "cell_type": "markdown",
   "metadata": {},
   "source": [
    "프라이빗 변수로 인해 외부에서 내부의 변수를 조작하려고 했으나 변경되지 않았습니다."
   ]
  },
  {
   "cell_type": "markdown",
   "metadata": {},
   "source": [
    "#### 1. 상속  \n",
    "클래스 기반의 객체 지향 언어에서는 상속이라는 기능이 있습니다.  \n",
    "상속: 이는 기존에 만들었던 클래스 (예: 수강생 등록, 원의 둘레와 넓이 계산, 데이터베이스에 등록된 수강생 수 세기 등)의 일부 내용을 추가(예: 수강생 삭제 기능)하거나 변경하는 것을 의미합니다.  \n",
    "프로그래밍 언어에서는 원본 클래스를 '부모 클래스'라고 부르고, 이를 기반으로 만든 새 클래스를 '자식 클래스'라고 합니다. 이런 과정을 '상속'이라고 부릅니다."
   ]
  },
  {
   "cell_type": "markdown",
   "metadata": {},
   "source": [
    "#### 2. 다중 상속\n",
    "상속은 기존 클래스를 추가하거나 변경하는 것을 의미하며, 다중 상속은 각 클래스에서 필요한 속성이나 기능을 선택하여 사용하는 것을 말합니다."
   ]
  },
  {
   "cell_type": "code",
   "execution_count": 6,
   "metadata": {},
   "outputs": [
    {
     "name": "stdout",
     "output_type": "stream",
     "text": [
      "Parent 클래스의 __init__() 메소드가 호출되었습니다.\n",
      "Child 클래스의 __init__() 메소드가 호출되었습니다.\n",
      "Parent 클래스의 test() 메소드입니다.\n",
      "테스트\n"
     ]
    }
   ],
   "source": [
    "# 자식 클래스를 만들 때 사용할 부모 클래스\n",
    "class Parent:\n",
    "    def __init__(self):\n",
    "        self.value = \"테스트\"  # 인스턴스 변수 초기화\n",
    "        print(\"Parent 클래스의 __init__() 메소드가 호출되었습니다.\")  # 부모 클래스의 생성자 출력\n",
    "\n",
    "    def test(self):\n",
    "        print(\"Parent 클래스의 test() 메소드입니다.\")  # 부모 클래스의 메서드 정의\n",
    "\n",
    "# Parent 클래스를 상속받는 Child 클래스 정의\n",
    "class Child(Parent):\n",
    "    def __init__(self):\n",
    "        super().__init__()  # 부모 클래스의 생성자 호출\n",
    "        print(\"Child 클래스의 __init__() 메소드가 호출되었습니다.\")  # 자식 클래스의 생성자 출력\n",
    "\n",
    "# Child 클래스의 인스턴스 생성\n",
    "child = Child()\n",
    "\n",
    "# 부모 클래스의 메서드 호출\n",
    "child.test()\n",
    "\n",
    "# 부모 클래스에서 초기화된 인스턴스 변수 출력\n",
    "print(child.value)"
   ]
  },
  {
   "cell_type": "markdown",
   "metadata": {},
   "source": [
    "Child 클래스 내부에는 별도의 항목이 없지만, Parent 클래스를 상속 받았기 때문에 Parent 클래스의 함수와 변수를 사용할 수 있습니다."
   ]
  }
 ],
 "metadata": {
  "kernelspec": {
   "display_name": "Python 3",
   "language": "python",
   "name": "python3"
  },
  "language_info": {
   "codemirror_mode": {
    "name": "ipython",
    "version": 3
   },
   "file_extension": ".py",
   "mimetype": "text/x-python",
   "name": "python",
   "nbconvert_exporter": "python",
   "pygments_lexer": "ipython3",
   "version": "3.11.9"
  }
 },
 "nbformat": 4,
 "nbformat_minor": 2
}
